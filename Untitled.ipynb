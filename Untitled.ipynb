{
 "cells": [
  {
   "cell_type": "code",
   "execution_count": 1,
   "id": "43866bb3-45e8-4b1c-a237-12e8abfdbc76",
   "metadata": {},
   "outputs": [
    {
     "data": {
      "text/plain": [
       "'/share/home/tj09068/CXYV2/My_TrueLove/superpoint'"
      ]
     },
     "execution_count": 1,
     "metadata": {},
     "output_type": "execute_result"
    }
   ],
   "source": [
    "import os\n",
    "os.getcwd()"
   ]
  },
  {
   "cell_type": "code",
   "execution_count": 4,
   "id": "d775c8bd-9c2c-4341-9832-4fa0035bd17b",
   "metadata": {},
   "outputs": [
    {
     "data": {
      "text/plain": [
       "'/share/home/tj09068/CXYV2/My_TrueLove/superpoint/TEMP'"
      ]
     },
     "execution_count": 4,
     "metadata": {},
     "output_type": "execute_result"
    }
   ],
   "source": [
    "os.environ['TMPDIR']"
   ]
  },
  {
   "cell_type": "code",
   "execution_count": 3,
   "id": "0792cd6a-1bbe-4776-9d0e-32a5c112493e",
   "metadata": {},
   "outputs": [],
   "source": [
    "os.environ['TMPDIR'] = '/share/home/tj09068/CXYV2/My_TrueLove/superpoint/TEMP'"
   ]
  },
  {
   "cell_type": "code",
   "execution_count": 1,
   "id": "701aeb0c-9fdd-40fe-b898-b23ae02216ad",
   "metadata": {},
   "outputs": [
    {
     "name": "stdout",
     "output_type": "stream",
     "text": [
      "/share/apps/miniconda3/bin/python\n"
     ]
    }
   ],
   "source": [
    "!which python"
   ]
  },
  {
   "cell_type": "code",
   "execution_count": 5,
   "id": "10652331-6e74-461f-a956-258538a9c3c0",
   "metadata": {},
   "outputs": [
    {
     "name": "stdout",
     "output_type": "stream",
     "text": [
      "Traceback (most recent call last):\n",
      "  File \"/share/home/tj09068/CXYV2/My_TrueLove/superpoint/experiment.py\", line 7, in <module>\n",
      "    import numpy as np\n",
      "ModuleNotFoundError: No module named 'numpy'\n"
     ]
    }
   ],
   "source": [
    "!python experiment.py train configs/magic-point_shapes.yaml magic-point_synthetic_mini"
   ]
  },
  {
   "cell_type": "code",
   "execution_count": null,
   "id": "3fb608ab-3aad-42cc-a9b6-59e7c345b576",
   "metadata": {},
   "outputs": [],
   "source": [
    "/share/home/tj09068/.conda/envs/pytorch2/bin/python"
   ]
  }
 ],
 "metadata": {
  "kernelspec": {
   "display_name": "pytorch2",
   "language": "python",
   "name": "pytorch2"
  },
  "language_info": {
   "codemirror_mode": {
    "name": "ipython",
    "version": 3
   },
   "file_extension": ".py",
   "mimetype": "text/x-python",
   "name": "python",
   "nbconvert_exporter": "python",
   "pygments_lexer": "ipython3",
   "version": "3.12.8"
  }
 },
 "nbformat": 4,
 "nbformat_minor": 5
}
